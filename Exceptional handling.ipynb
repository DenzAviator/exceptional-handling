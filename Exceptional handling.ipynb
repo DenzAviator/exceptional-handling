{
 "cells": [
  {
   "cell_type": "markdown",
   "id": "7616a4ea",
   "metadata": {},
   "source": [
    "1. What is the role of the 'else' block in a try-except statement? Provide an example scenario where it would be useful. \n",
    "\n",
    "The 'else' block in a try-except statement is optional and provides a block of code that is executed if no exceptions occur within the corresponding 'try' block. Its purpose is to handle the code that should run when the 'try' block executes successfully without raising any exceptions."
   ]
  },
  {
   "cell_type": "code",
   "execution_count": 1,
   "id": "021cb30b",
   "metadata": {},
   "outputs": [],
   "source": [
    "def divide_numbers(a, b):\n",
    "    try:\n",
    "        result = a / b\n",
    "    except ZeroDivisionError:\n",
    "        print(\"Error: Cannot divide by zero!\")\n",
    "    else:\n",
    "        print(\"The division was successful. Result:\", result)"
   ]
  },
  {
   "cell_type": "markdown",
   "id": "7fb88d5f",
   "metadata": {},
   "source": [
    "In this example, the function divide_numbers attempts to divide two numbers a and b. If a ZeroDivisionError occurs during the division, the except block is executed, printing an error message. However, if no exception occurs, the 'else' block is executed, indicating that the division was successful and printing the result.\n",
    "\n",
    "The 'else' block allows you to differentiate between the code executed when an exception is raised and when the code in the 'try' block runs successfully. It can be useful for performing actions that should only happen when no exceptions are encountered, such as handling the successful completion of a risky operation or displaying a success message."
   ]
  },
  {
   "cell_type": "code",
   "execution_count": null,
   "id": "9553ac02",
   "metadata": {},
   "outputs": [],
   "source": []
  },
  {
   "cell_type": "markdown",
   "id": "b5612af4",
   "metadata": {},
   "source": [
    "2. Can a try-except block be nested inside another try-except block? Explain with an example. \n",
    "\n",
    "Yes, a try-except block can be nested inside another try-except block. This is known as nested exception handling. It allows for more fine-grained error handling and the ability to handle different types of exceptions at different levels of the code."
   ]
  },
  {
   "cell_type": "code",
   "execution_count": 2,
   "id": "882b6c06",
   "metadata": {},
   "outputs": [
    {
     "name": "stdout",
     "output_type": "stream",
     "text": [
      "Enter a dividend: 4\n",
      "Enter a divisor: 2\n",
      "Result: 2.0\n"
     ]
    }
   ],
   "source": [
    "try:\n",
    "    # Outer try-except block\n",
    "    num1 = int(input(\"Enter a dividend: \"))\n",
    "    num2 = int(input(\"Enter a divisor: \"))\n",
    "    \n",
    "    try:\n",
    "        # Inner try-except block\n",
    "        result = num1 / num2\n",
    "        print(\"Result:\", result)\n",
    "        \n",
    "    except ZeroDivisionError:\n",
    "        print(\"Cannot divide by zero in the inner block.\")\n",
    "        \n",
    "except ValueError:\n",
    "    print(\"Invalid input in the outer block.\")"
   ]
  },
  {
   "cell_type": "markdown",
   "id": "300ae98d",
   "metadata": {},
   "source": [
    "In this example, there are two try-except blocks. The outer block handles the ValueError that can occur if the user enters an invalid input when converting the input to integers. The inner block handles the ZeroDivisionError that can occur if the user enters zero as the divisor.\n",
    "\n",
    "If the user enters a non-numeric value, the outer block catches the ValueError and prints \"Invalid input in the outer block.\" If the user enters a valid input but with zero as the divisor, the inner block catches the ZeroDivisionError and prints \"Cannot divide by zero in the inner block.\" This allows for specific error messages and different handling for each type of exception."
   ]
  },
  {
   "cell_type": "code",
   "execution_count": null,
   "id": "4dd2ddb2",
   "metadata": {},
   "outputs": [],
   "source": []
  },
  {
   "cell_type": "markdown",
   "id": "449c2eda",
   "metadata": {},
   "source": [
    "3. How can you create a custom exception class in Python? Provide an example that demonstrates its usage. \n",
    "\n",
    "To create a custom exception class in Python, you can define a new class that inherits from the built-in Exception class or any of its subclasses. Here's an example that demonstrates the creation and usage of a custom exception class:"
   ]
  },
  {
   "cell_type": "code",
   "execution_count": 3,
   "id": "b1e6808b",
   "metadata": {},
   "outputs": [
    {
     "name": "stdout",
     "output_type": "stream",
     "text": [
      "CustomException occurred: Division by zero is not allowed.\n"
     ]
    }
   ],
   "source": [
    "class CustomException(Exception):\n",
    "    pass\n",
    "\n",
    "\n",
    "def divide_numbers(a, b):\n",
    "    if b == 0:\n",
    "        raise CustomException(\"Division by zero is not allowed.\")\n",
    "    return a / b\n",
    "\n",
    "\n",
    "try:\n",
    "    result = divide_numbers(10, 0)\n",
    "    print(\"Result:\", result)\n",
    "except CustomException as e:\n",
    "    print(\"CustomException occurred:\", e)\n"
   ]
  },
  {
   "cell_type": "markdown",
   "id": "9ed82eef",
   "metadata": {},
   "source": [
    "In this example, we define a custom exception class called CustomException by inheriting from the Exception class. The CustomException class doesn't have any additional logic, so we use the pass statement to indicate an empty class body.\n",
    "\n",
    "Next, we have a function divide_numbers that performs division. If the second argument b is zero, it raises a CustomException with a specific error message.\n",
    "\n",
    "In the try block, we call the divide_numbers function with arguments 10 and 0. Since dividing by zero is not allowed, it raises a CustomException. In the except block, we catch the CustomException and print the error message contained in the exception.\n",
    "\n",
    "If the division is successful (when b is not zero), the code inside the try block continues executing without entering the except block.\n",
    "\n",
    "By creating a custom exception class, you can define your own exception types to handle specific error conditions in your code."
   ]
  },
  {
   "cell_type": "code",
   "execution_count": null,
   "id": "7e48161c",
   "metadata": {},
   "outputs": [],
   "source": []
  },
  {
   "cell_type": "markdown",
   "id": "8e86ee57",
   "metadata": {},
   "source": [
    "4. What are some common exceptions that are built-in to Python? \n",
    "\n",
    "Python provides several built-in exceptions that you can catch and handle in your code. Here are some commonly used built-in exceptions in Python:\n",
    "\n",
    "(a). SyntaxError: Raised when there is a syntax error in the code.\n",
    "\n",
    "(b). TypeError: Raised when an operation or function is applied to an object of an inappropriate type.\n",
    "\n",
    "(c). ValueError: Raised when a function receives an argument of the correct type but an inappropriate value.\n",
    "\n",
    "(d). NameError: Raised when a local or global name is not found.\n",
    "\n",
    "(e). IndexError: Raised when a sequence subscript is out of range.\n",
    "\n",
    "(f). KeyError: Raised when a dictionary key is not found.\n",
    "\n",
    "(g). FileNotFoundError: Raised when a file or directory is requested, but it cannot be found.\n",
    "\n",
    "(h). ZeroDivisionError: Raised when division or modulo by zero is encountered.\n",
    "\n",
    "(i). AttributeError: Raised when an attribute reference or assignment fails.\n",
    "\n",
    "(j). ImportError: Raised when an import statement fails to find the module being imported.\n",
    "\n",
    "(k). NotImplementedError: Raised when an abstract method that should be implemented in a subclass is not actually implemented.\n",
    "\n",
    "(l). OverflowError: Raised when the result of an arithmetic operation is too large to be expressed within the available numeric range.\n",
    "\n",
    "    These are just a few examples of the built-in exceptions in Python. Each exception has its specific use case, and you can catch and handle them using try and except blocks in your code to gracefully handle potential errors and exceptions."
   ]
  },
  {
   "cell_type": "code",
   "execution_count": null,
   "id": "f5d9c5fb",
   "metadata": {},
   "outputs": [],
   "source": []
  },
  {
   "cell_type": "markdown",
   "id": "341ddcfc",
   "metadata": {},
   "source": [
    "5. What is logging in Python, and why is it important in software development? \n",
    "\n",
    "Logging in Python is a built-in module that allows developers to record messages or events that occur during the execution of a program. It provides a flexible and standardized way to capture important information, warnings, errors, and other relevant data at runtime.\n",
    "\n",
    "Logging is crucial in software development for several reasons:\n",
    "\n",
    "(a). Debugging and Troubleshooting: When an application encounters an issue or behaves unexpectedly, logging can help developers understand what went wrong. By strategically placing log statements throughout the code, developers can track the flow of execution, variable values, and identify the source of errors.\n",
    "\n",
    "(b). Error and Exception Handling: Logging enables developers to capture and log error messages, stack traces, and exceptions that occur during program execution. These logs help diagnose issues, understand the root causes of errors, and provide valuable information for fixing bugs.\n",
    "\n",
    "(c). Monitoring and Performance Analysis: By logging important metrics, such as response times, resource usage, or the frequency of specific events, developers can monitor the performance of an application in real-time or analyze it later. This information can aid in identifying bottlenecks, optimizing performance, and improving the overall user experience.\n",
    "\n",
    "(d). Auditing and Compliance: In some cases, it is essential to maintain an audit trail of actions performed by an application or user interactions. Logging can capture and store these events, ensuring accountability, compliance with regulations, and enabling forensic analysis if required.\n",
    "\n",
    "(e). Security and Intrusion Detection: By logging security-related events, such as authentication failures, access attempts, or suspicious activities, developers can identify potential security breaches and respond proactively. Logs can serve as a valuable source of information during incident response and forensic investigations.\n",
    "\n",
    "(f). Long-Term Analysis and Business Intelligence: Logging data can be used for long-term analysis, trending, and business intelligence purposes. By aggregating and analyzing logs over time, developers can gain insights into usage patterns, user behavior, system performance, and make data-driven decisions to improve their software.\n",
    "\n",
    "Python's logging module offers various logging levels, allowing developers to control the verbosity of the logs and choose the appropriate level of detail. It supports different output destinations, such as the console, files, or external services, and provides flexibility in formatting log messages.\n",
    "\n",
    "Overall, logging plays a critical role in software development by providing a mechanism to capture important runtime information, enabling developers to diagnose issues, monitor performance, ensure security, and make informed decisions for maintaining and improving software systems."
   ]
  },
  {
   "cell_type": "code",
   "execution_count": null,
   "id": "1f66ed65",
   "metadata": {},
   "outputs": [],
   "source": []
  },
  {
   "cell_type": "markdown",
   "id": "91cc7a05",
   "metadata": {},
   "source": [
    "6. Explain the purpose of log levels in Python logging and provide examples of when each log level would be appropriate. \n",
    "\n",
    "In Python logging, log levels are used to categorize and prioritize log messages based on their severity or importance. They allow developers to control which log messages are recorded and displayed based on the desired level of verbosity. Python provides several predefined log levels, each serving a specific purpose. Here are the commonly used log levels along with examples of when each level would be appropriate:\n",
    "    \n",
    "(a).DEBUG:\n",
    "    \n",
    "This is the lowest level of severity and is used for detailed debugging information. It is typically used during development and is not recommended for production environments. Examples of when to use DEBUG log level:\n",
    "\n",
    ".Tracing the flow of execution within a specific function or module.\n",
    "\n",
    ".Displaying variable values for troubleshooting.\n",
    "\n",
    ".Logging detailed information about network requests or database queries.\n",
    "\n",
    "(b). INFO:\n",
    "    \n",
    "INFO level provides general information about the progress and status of the application. It is used to confirm that things are working as expected. Examples of when to use INFO log level:\n",
    "\n",
    ". Logging important application events, such as startup or shutdown.\n",
    "\n",
    ". Displaying high-level information about the current state of the application.\n",
    "\n",
    ". Logging configuration changes or important milestones in the application's execution.\n",
    "\n",
    "(c). WARNING:\n",
    "\n",
    "    WARNING level indicates that something unexpected or potentially problematic has occurred, but the application can still continue running. Examples of when to use WARNING log level:\n",
    "\n",
    ". Logging deprecated features or usage of outdated APIs.\n",
    "\n",
    ". Alerting about incorrect usage of functions or parameters.\n",
    "\n",
    ". Logging potential security vulnerabilities or risky operations.\n",
    "\n",
    "(d). ERROR:\n",
    "    \n",
    "ERROR level indicates a more severe issue that prevents the application from functioning as intended. It represents an error that requires attention but doesn't cause a complete failure. Examples of when to use ERROR log level:\n",
    "\n",
    ". Logging unhandled exceptions or errors that lead to failures within the application.\n",
    "\n",
    ". Reporting invalid input or data inconsistencies.\n",
    "\n",
    ".Logging failed network connections or database operations.\n",
    "\n",
    "(d). CRITICAL:\n",
    "\n",
    "    CRITICAL level represents the most severe level of logging. It indicates a critical error or failure that may lead to the termination of the application. Examples of when to use CRITICAL log level:\n",
    "\n",
    ". Logging major system failures or crashes.\n",
    "\n",
    ". Alerting about security breaches or data corruption.\n",
    "\n",
    ". Logging unrecoverable errors that require immediate attention.\n",
    "\n",
    "By setting the appropriate log level, developers can control the amount of information logged and focus on the relevant messages based on the current context. It is important to choose the log level wisely, considering both the development phase and the deployment environment to balance verbosity and essential information."
   ]
  },
  {
   "cell_type": "code",
   "execution_count": null,
   "id": "9f431f80",
   "metadata": {},
   "outputs": [],
   "source": []
  },
  {
   "cell_type": "markdown",
   "id": "1ce63d28",
   "metadata": {},
   "source": [
    "7. What are log formatters in Python logging, and how can you customise the log message format using formatters? \n",
    "\n",
    "In Python's logging module, log formatters are used to define the format of log messages. They determine how log records are rendered into a final string representation that is emitted to the log handlers.\n",
    "\n",
    "The Formatter class is provided by the logging module to customize the log message format. When creating a formatter object, you can specify a format string that contains placeholders for various attributes of a log record, such as the log level, timestamp, logger name, and the actual log message."
   ]
  },
  {
   "cell_type": "code",
   "execution_count": 2,
   "id": "ee786c93",
   "metadata": {},
   "outputs": [
    {
     "name": "stderr",
     "output_type": "stream",
     "text": [
      "2023-06-25 02:08:13,028 - my_logger - DEBUG - This is a debug message\n",
      "2023-06-25 02:08:13,034 - my_logger - INFO - This is an info message\n",
      "2023-06-25 02:08:13,036 - my_logger - WARNING - This is a warning message\n",
      "2023-06-25 02:08:13,039 - my_logger - ERROR - This is an error message\n"
     ]
    }
   ],
   "source": [
    "import logging\n",
    "\n",
    "# Create a formatter object\n",
    "formatter = logging.Formatter('%(asctime)s - %(name)s - %(levelname)s - %(message)s')\n",
    "\n",
    "# Create a logger\n",
    "logger = logging.getLogger('my_logger')\n",
    "logger.setLevel(logging.DEBUG)\n",
    "\n",
    "# Create a console handler and set the formatter\n",
    "console_handler = logging.StreamHandler()\n",
    "console_handler.setFormatter(formatter)\n",
    "\n",
    "# Add the console handler to the logger\n",
    "logger.addHandler(console_handler)\n",
    "\n",
    "# Log some messages\n",
    "logger.debug('This is a debug message')\n",
    "logger.info('This is an info message')\n",
    "logger.warning('This is a warning message')\n",
    "logger.error('This is an error message')"
   ]
  },
  {
   "cell_type": "markdown",
   "id": "a654da54",
   "metadata": {},
   "source": [
    "In the example above, the Formatter is instantiated with the format string '%(asctime)s - %(name)s - %(levelname)s - %(message)s'. This format string contains placeholders enclosed in %() that represent different attributes of a log record. Here are a few commonly used placeholders:\n",
    "\n",
    "%(asctime)s: The timestamp of the log record.\n",
    "    \n",
    "%(name)s: The name of the logger that generated the log record.\n",
    "    \n",
    "%(levelname)s: The log level of the log record (e.g., DEBUG, INFO, WARNING, ERROR).\n",
    "    \n",
    "%(message)s: The actual log message."
   ]
  },
  {
   "cell_type": "code",
   "execution_count": null,
   "id": "f55b5243",
   "metadata": {},
   "outputs": [],
   "source": []
  },
  {
   "cell_type": "markdown",
   "id": "84a1c6e3",
   "metadata": {},
   "source": [
    "8. How can you set up logging to capture log messages from multiple modules or classes in a Python application? \n",
    "\n",
    "To capture log messages from multiple modules or classes in a Python application, you can use the built-in logging module. Here's how you can set up logging:"
   ]
  },
  {
   "cell_type": "code",
   "execution_count": 4,
   "id": "0bc62382",
   "metadata": {},
   "outputs": [
    {
     "name": "stderr",
     "output_type": "stream",
     "text": [
      "DEBUG:__main__:This is a debug message\n",
      "2023-06-25 02:19:11,483 - __main__ - INFO - This is an info message\n",
      "2023-06-25 02:19:11,483 - __main__ - INFO - This is an info message\n",
      "INFO:__main__:This is an info message\n",
      "2023-06-25 02:19:11,490 - __main__ - WARNING - This is a warning message\n",
      "2023-06-25 02:19:11,490 - __main__ - WARNING - This is a warning message\n",
      "WARNING:__main__:This is a warning message\n",
      "2023-06-25 02:19:11,496 - __main__ - ERROR - This is an error message\n",
      "2023-06-25 02:19:11,496 - __main__ - ERROR - This is an error message\n",
      "ERROR:__main__:This is an error message\n",
      "2023-06-25 02:19:11,502 - __main__ - CRITICAL - This is a critical message\n",
      "2023-06-25 02:19:11,502 - __main__ - CRITICAL - This is a critical message\n",
      "CRITICAL:__main__:This is a critical message\n"
     ]
    }
   ],
   "source": [
    "import logging\n",
    "\n",
    "# Set the logging level (optional)\n",
    "logging.basicConfig(level=logging.DEBUG)\n",
    "\n",
    "# Create a logger\n",
    "logger = logging.getLogger(__name__)\n",
    "\n",
    "# Create a file handler and set its level\n",
    "file_handler = logging.FileHandler('app.log')\n",
    "file_handler.setLevel(logging.DEBUG)\n",
    "\n",
    "# Create a console handler and set its level\n",
    "console_handler = logging.StreamHandler()\n",
    "console_handler.setLevel(logging.INFO)\n",
    "\n",
    "# Create a formatter and set it for the handlers\n",
    "formatter = logging.Formatter('%(asctime)s - %(name)s - %(levelname)s - %(message)s')\n",
    "file_handler.setFormatter(formatter)\n",
    "console_handler.setFormatter(formatter)\n",
    "\n",
    "# Add the handlers to the logger\n",
    "logger.addHandler(file_handler)\n",
    "logger.addHandler(console_handler)\n",
    "\n",
    "# Inside a module or class\n",
    "logger.debug('This is a debug message')\n",
    "logger.info('This is an info message')\n",
    "logger.warning('This is a warning message')\n",
    "logger.error('This is an error message')\n",
    "logger.critical('This is a critical message')"
   ]
  },
  {
   "cell_type": "markdown",
   "id": "6782da44",
   "metadata": {},
   "source": [
    "In this example, we set the logging level to DEBUG, which captures all log messages. You can change it to INFO, WARNING, ERROR, or CRITICAL based on your needs.\n",
    "\n",
    "The log messages will be captured by the logger and handled by the configured handlers. In this example, messages will be logged to both a file (app.log) and the console.\n",
    "\n",
    "You can customize the logging configuration further based on your requirements. For example, you can add additional handlers, set different log levels for different modules, or specify a different log format. Refer to the logging module documentation for more information on advanced logging configurations."
   ]
  },
  {
   "cell_type": "code",
   "execution_count": null,
   "id": "74c5be02",
   "metadata": {},
   "outputs": [],
   "source": []
  },
  {
   "cell_type": "code",
   "execution_count": null,
   "id": "c55409d4",
   "metadata": {},
   "outputs": [],
   "source": [
    "9. What is the difference between the logging and print statements in Python? When should you use logging over print statements in a real-world application? \n",
    "\n",
    "In Python, both logging and print statements serve different purposes and are used in different contexts.\n",
    "\n",
    "(1). Logging:\n",
    "    \n",
    "Logging is a built-in module in Python that provides a flexible and powerful framework for generating log messages. It is designed for the purpose of recording events and diagnostic information during the execution of a program. Here are some key points about logging:\n",
    "Logging allows you to specify different severity levels for log messages, such as DEBUG, INFO, WARNING, ERROR, and CRITICAL. This helps in categorizing and filtering log messages based on their importance.\n",
    "\n",
    "Print statements:\n",
    "Print statements in Python are a simple way to output information to the console during program execution. They are commonly used for quick debugging or understanding the flow of the code. Here are some points about print statements:\n",
    "Print statements are typically used for temporary or ad-hoc debugging purposes. They provide a straightforward way to display the values of variables or intermediate results during program execution.\n",
    "Print statements do not provide any advanced features like log levels, log filtering, or different log outputs. The output is directly sent to the console, and you have limited control over the formatting of the output.\n",
    "Using print statements extensively in a large-scale or long-running application can clutter the codebase and make it difficult to maintain and debug, especially when dealing with multiple modules or concurrent execution.\n",
    "In a real-world application, you should prefer using logging over print statements in the following scenarios:\n",
    "\n",
    "(a) Production environment: When your code is running in a production environment, it is essential to have a structured and controlled way of logging information, warnings, errors, and other relevant events. Logging allows you to control the verbosity of log messages and direct them to appropriate destinations (e.g., log files), making it easier to monitor and analyze the application's behavior.\n",
    "\n",
    "(b). Long-running applications: For applications that run for an extended period, such as servers or daemons, logging provides features like log rotation and log file size control. This helps in managing disk space usage and preventing log files from growing indefinitely.\n",
    "\n",
    "(c) Collaboration and maintenance: If you are working in a team or maintaining a codebase over time, using logging instead of print statements can improve collaboration and code maintainability. Logging provides a consistent way to handle log messages across the codebase, allowing developers to easily understand and modify the logging behavior when needed.\n",
    "\n",
    "In summary, while print statements are useful for quick debugging or small scripts, logging is more suitable for real-world applications due to its flexibility, advanced features, and better maintainability."
   ]
  },
  {
   "cell_type": "markdown",
   "id": "5542549d",
   "metadata": {},
   "source": [
    "10.Write a Python program that logs a message to a file named \"app.log\" with the following requirements:\n",
    "    \n",
    "    ● The log message should be \"Hello, World!\"\n",
    "    ● The log level should be set to \"INFO.\" \n",
    "    ● The log file should append new log entries without overwriting previous ones. \n",
    "    \n",
    "    You can use the logging module in Python to achieve this. Here's an example program that logs the message \"Hello, World!\" with the log level set to \"INFO\" and appends the log entries to the \"app.log\" file:"
   ]
  },
  {
   "cell_type": "code",
   "execution_count": 3,
   "id": "e44eb37c",
   "metadata": {},
   "outputs": [],
   "source": [
    "import logging\n",
    "\n",
    "# Configure logging\n",
    "logging.basicConfig(\n",
    "    filename=\"app.log\",\n",
    "    level=logging.INFO,\n",
    "    format=\"%(asctime)s - %(levelname)s - %(message)s\"\n",
    ")\n",
    "\n",
    "# Log the message\n",
    "logging.info(\"Hello, World!\")\n"
   ]
  },
  {
   "cell_type": "markdown",
   "id": "4c5c9b7f",
   "metadata": {},
   "source": [
    "In this code, we first import the logging module. Then, we configure the logging by calling basicConfig() with the following parameters:\n",
    "\n",
    "filename: Specifies the name of the log file.\n",
    "\n",
    "level: Sets the log level to INFO.\n",
    "\n",
    "format: Defines the format of the log message. In this case, we include the timestamp, log level, and the actual log message.\n",
    "\n",
    " Finally, we log the message by calling info() on the logging object and passing the message as a parameter. When you run this program, it will append the log entry \"Hello, World!\" to the \"app.log\" file without overwriting any previous log entries."
   ]
  },
  {
   "cell_type": "code",
   "execution_count": null,
   "id": "79fce8ab",
   "metadata": {},
   "outputs": [],
   "source": []
  },
  {
   "cell_type": "markdown",
   "id": "8245c697",
   "metadata": {},
   "source": [
    "11. Create a Python program that logs an error message to the console and a file named \"errors.log\" if an exception occurs during the program's execution. The error message should include the exception type and a timestamp."
   ]
  },
  {
   "cell_type": "markdown",
   "id": "7fa6b0f9",
   "metadata": {},
   "source": [
    "Certainly! Here's an example Python program that logs error messages to both the console and a file named \"errors.log\" when an exception occurs during execution. It uses the logging module to handle the logging functionality."
   ]
  },
  {
   "cell_type": "code",
   "execution_count": 4,
   "id": "9b395056",
   "metadata": {},
   "outputs": [],
   "source": [
    "import logging\n",
    "import datetime\n",
    "\n",
    "def log_exception():\n",
    "    # Configure logging\n",
    "    logging.basicConfig(\n",
    "        level=logging.ERROR,\n",
    "        format='%(asctime)s [%(levelname)s] %(message)s',\n",
    "        handlers=[\n",
    "            logging.FileHandler('errors.log'),\n",
    "            logging.StreamHandler()\n",
    "        ]\n",
    "    )\n",
    "\n",
    "    try:\n",
    "        # Your program logic here\n",
    "        # ...\n",
    "\n",
    "        # Simulating an exception\n",
    "        raise ValueError(\"Something went wrong!\")\n",
    "\n",
    "    except Exception as e:\n",
    "        # Log the exception\n",
    "        logging.exception(e)\n",
    "\n",
    "if __name__ == '__main__':\n",
    "    log_exception()"
   ]
  },
  {
   "cell_type": "code",
   "execution_count": 5,
   "id": "6f1b765e",
   "metadata": {},
   "outputs": [
    {
     "name": "stderr",
     "output_type": "stream",
     "text": [
      "2023-07-04 23:10:57,241 - ERROR - An exception occurred.\n",
      "Traceback (most recent call last):\n",
      "  File \"C:\\Users\\GWAFA\\AppData\\Local\\Temp\\ipykernel_7256\\665952944.py\", line 38, in main\n",
      "    x = 10 / 0\n",
      "ZeroDivisionError: division by zero\n"
     ]
    }
   ],
   "source": [
    "import logging\n",
    "import traceback\n",
    "from datetime import datetime\n",
    "\n",
    "def setup_logging():\n",
    "    # Create a logger\n",
    "    logger = logging.getLogger(\"error_logger\")\n",
    "    logger.setLevel(logging.ERROR)\n",
    "\n",
    "    # Create a console handler and set the level to ERROR\n",
    "    console_handler = logging.StreamHandler()\n",
    "    console_handler.setLevel(logging.ERROR)\n",
    "\n",
    "    # Create a file handler and set the level to ERROR\n",
    "    file_handler = logging.FileHandler(\"errors.log\")\n",
    "    file_handler.setLevel(logging.ERROR)\n",
    "\n",
    "    # Create a formatter to include the exception type and timestamp\n",
    "    formatter = logging.Formatter('%(asctime)s - %(levelname)s - %(message)s')\n",
    "\n",
    "    # Set the formatter for both handlers\n",
    "    console_handler.setFormatter(formatter)\n",
    "    file_handler.setFormatter(formatter)\n",
    "\n",
    "    # Add the handlers to the logger\n",
    "    logger.addHandler(console_handler)\n",
    "    logger.addHandler(file_handler)\n",
    "\n",
    "    return logger\n",
    "\n",
    "def main():\n",
    "    # Initialize the logger\n",
    "    logger = setup_logging()\n",
    "\n",
    "    try:\n",
    "        # Your main program logic here\n",
    "        # For example:\n",
    "        x = 10 / 0\n",
    "\n",
    "    except Exception as e:\n",
    "        # Log the exception\n",
    "        logger.exception(\"An exception occurred.\")\n",
    "\n",
    "if __name__ == \"__main__\":\n",
    "    main()"
   ]
  },
  {
   "cell_type": "code",
   "execution_count": null,
   "id": "9565ae66",
   "metadata": {},
   "outputs": [],
   "source": []
  }
 ],
 "metadata": {
  "kernelspec": {
   "display_name": "Python 3 (ipykernel)",
   "language": "python",
   "name": "python3"
  },
  "language_info": {
   "codemirror_mode": {
    "name": "ipython",
    "version": 3
   },
   "file_extension": ".py",
   "mimetype": "text/x-python",
   "name": "python",
   "nbconvert_exporter": "python",
   "pygments_lexer": "ipython3",
   "version": "3.10.9"
  }
 },
 "nbformat": 4,
 "nbformat_minor": 5
}
